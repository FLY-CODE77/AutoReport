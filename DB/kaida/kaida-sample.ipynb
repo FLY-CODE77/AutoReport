{
 "cells": [
  {
   "cell_type": "code",
   "execution_count": 1,
   "id": "fbb5d22b",
   "metadata": {},
   "outputs": [],
   "source": [
    "from kaida import *"
   ]
  },
  {
   "cell_type": "code",
   "execution_count": 2,
   "id": "702efb84",
   "metadata": {},
   "outputs": [
    {
     "name": "stdout",
     "output_type": "stream",
     "text": [
      "['개인', '~19', 2016]\n",
      "['개인', '20~29', 2016]\n",
      "['개인', '30~39', 2016]\n",
      "['개인', '40~49', 2016]\n",
      "['개인', '50~59', 2016]\n",
      "['개인', '60~69', 2016]\n",
      "['개인', '70~', 2016]\n",
      "['개인-남자', '~19', 2016]\n",
      "['개인-남자', '20~29', 2016]\n",
      "['개인-남자', '30~39', 2016]\n",
      "['개인-남자', '40~49', 2016]\n",
      "['개인-남자', '50~59', 2016]\n",
      "['개인-남자', '60~69', 2016]\n",
      "['개인-남자', '70~', 2016]\n",
      "['개인-여자', '~19', 2016]\n",
      "['개인-여자', '20~29', 2016]\n",
      "['개인-여자', '30~39', 2016]\n",
      "['개인-여자', '40~49', 2016]\n",
      "['개인-여자', '50~59', 2016]\n",
      "['개인-여자', '60~69', 2016]\n",
      "['개인-여자', '70~', 2016]\n",
      "['법인', '~19', 2016]\n",
      "['법인', '20~29', 2016]\n",
      "['법인', '30~39', 2016]\n",
      "['법인', '40~49', 2016]\n",
      "['법인', '50~59', 2016]\n",
      "['법인', '60~69', 2016]\n",
      "['법인', '70~', 2016]\n"
     ]
    }
   ],
   "source": [
    "kaida_model('hctmkr', \"hcinc3600\", \"\", 2016, 2017, 'all', 'all')"
   ]
  },
  {
   "cell_type": "code",
   "execution_count": null,
   "id": "9db1ffc6",
   "metadata": {},
   "outputs": [],
   "source": []
  }
 ],
 "metadata": {
  "kernelspec": {
   "display_name": "Python 3",
   "language": "python",
   "name": "python3"
  },
  "language_info": {
   "codemirror_mode": {
    "name": "ipython",
    "version": 3
   },
   "file_extension": ".py",
   "mimetype": "text/x-python",
   "name": "python",
   "nbconvert_exporter": "python",
   "pygments_lexer": "ipython3",
   "version": "3.8.6"
  }
 },
 "nbformat": 4,
 "nbformat_minor": 5
}
