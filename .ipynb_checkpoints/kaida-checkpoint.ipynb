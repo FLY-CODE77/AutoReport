{
 "cells": [
  {
   "cell_type": "code",
   "execution_count": 1,
   "metadata": {},
   "outputs": [],
   "source": [
    "import configparser"
   ]
  },
  {
   "cell_type": "code",
   "execution_count": 12,
   "metadata": {},
   "outputs": [],
   "source": [
    "USER_ID = \"hctmkr\"\n",
    "USER_PW = \"hcinc3600\""
   ]
  },
  {
   "cell_type": "code",
   "execution_count": 13,
   "metadata": {},
   "outputs": [
    {
     "ename": "NameError",
     "evalue": "name 'account' is not defined",
     "output_type": "error",
     "traceback": [
      "\u001b[0;31m---------------------------------------------------------------------------\u001b[0m",
      "\u001b[0;31mNameError\u001b[0m                                 Traceback (most recent call last)",
      "\u001b[0;32m<ipython-input-13-81a594e03b2c>\u001b[0m in \u001b[0;36m<module>\u001b[0;34m\u001b[0m\n\u001b[1;32m      2\u001b[0m \u001b[0mconfig\u001b[0m\u001b[0;34m.\u001b[0m\u001b[0mread\u001b[0m\u001b[0;34m(\u001b[0m\u001b[0;34m\"datas.ini\"\u001b[0m\u001b[0;34m)\u001b[0m\u001b[0;34m\u001b[0m\u001b[0;34m\u001b[0m\u001b[0m\n\u001b[1;32m      3\u001b[0m \u001b[0;31m#account = config[\"kaida\"]\u001b[0m\u001b[0;34m\u001b[0m\u001b[0;34m\u001b[0m\u001b[0;34m\u001b[0m\u001b[0m\n\u001b[0;32m----> 4\u001b[0;31m \u001b[0muser_id\u001b[0m\u001b[0;34m,\u001b[0m \u001b[0muser_pass\u001b[0m \u001b[0;34m=\u001b[0m \u001b[0maccount\u001b[0m\u001b[0;34m[\u001b[0m\u001b[0;34m\"USER_ID\"\u001b[0m\u001b[0;34m]\u001b[0m\u001b[0;34m,\u001b[0m \u001b[0maccount\u001b[0m\u001b[0;34m[\u001b[0m\u001b[0;34m\"USER_PW\"\u001b[0m\u001b[0;34m]\u001b[0m\u001b[0;34m\u001b[0m\u001b[0;34m\u001b[0m\u001b[0m\n\u001b[0m",
      "\u001b[0;31mNameError\u001b[0m: name 'account' is not defined"
     ]
    }
   ],
   "source": [
    "config = configparser.ConfigParser()\n",
    "config.read(\"datas.ini\")\n",
    "account = config[\"kaida\"]\n",
    "user_id, user_pass = account[\"USER_ID\"], account[\"USER_PW\"]"
   ]
  },
  {
   "cell_type": "code",
   "execution_count": 6,
   "metadata": {},
   "outputs": [],
   "source": [
    "url = \"https://www.kaida.co.kr/ko/index.do\""
   ]
  },
  {
   "cell_type": "code",
   "execution_count": 4,
   "metadata": {},
   "outputs": [],
   "source": [
    "# 1. 로그인"
   ]
  },
  {
   "cell_type": "code",
   "execution_count": 8,
   "metadata": {},
   "outputs": [],
   "source": [
    "driver = webdriver.Chrome()\n",
    "driver.set_window_size(1400, 1200)\n",
    "driver.get(\"https://www.kaida.co.kr/uat/uia/egovLoginUsr.do\")"
   ]
  },
  {
   "cell_type": "code",
   "execution_count": 9,
   "metadata": {},
   "outputs": [
    {
     "ename": "NameError",
     "evalue": "name 'user_id' is not defined",
     "output_type": "error",
     "traceback": [
      "\u001b[0;31m---------------------------------------------------------------------------\u001b[0m",
      "\u001b[0;31mNameError\u001b[0m                                 Traceback (most recent call last)",
      "\u001b[0;32m<ipython-input-9-9e69ae81220d>\u001b[0m in \u001b[0;36m<module>\u001b[0;34m\u001b[0m\n\u001b[0;32m----> 1\u001b[0;31m \u001b[0mdriver\u001b[0m\u001b[0;34m.\u001b[0m\u001b[0mfind_element_by_css_selector\u001b[0m\u001b[0;34m(\u001b[0m\u001b[0;34m'#userId'\u001b[0m\u001b[0;34m)\u001b[0m\u001b[0;34m.\u001b[0m\u001b[0msend_keys\u001b[0m\u001b[0;34m(\u001b[0m\u001b[0muser_id\u001b[0m\u001b[0;34m)\u001b[0m\u001b[0;34m\u001b[0m\u001b[0;34m\u001b[0m\u001b[0m\n\u001b[0m\u001b[1;32m      2\u001b[0m \u001b[0mdriver\u001b[0m\u001b[0;34m.\u001b[0m\u001b[0mfind_element_by_css_selector\u001b[0m\u001b[0;34m(\u001b[0m\u001b[0;34m'#userPass'\u001b[0m\u001b[0;34m)\u001b[0m\u001b[0;34m.\u001b[0m\u001b[0msend_keys\u001b[0m\u001b[0;34m(\u001b[0m\u001b[0muser_pass\u001b[0m\u001b[0;34m)\u001b[0m\u001b[0;34m\u001b[0m\u001b[0;34m\u001b[0m\u001b[0m\n\u001b[1;32m      3\u001b[0m \u001b[0mdriver\u001b[0m\u001b[0;34m.\u001b[0m\u001b[0mexecute_script\u001b[0m\u001b[0;34m(\u001b[0m\u001b[0;34m'actionLogin()'\u001b[0m\u001b[0;34m)\u001b[0m\u001b[0;34m\u001b[0m\u001b[0;34m\u001b[0m\u001b[0m\n",
      "\u001b[0;31mNameError\u001b[0m: name 'user_id' is not defined"
     ]
    }
   ],
   "source": [
    "driver.find_element_by_css_selector('#userId').send_keys(user_id)\n",
    "driver.find_element_by_css_selector('#userPass').send_keys(user_pass)\n",
    "driver.execute_script('actionLogin()')"
   ]
  },
  {
   "cell_type": "code",
   "execution_count": 7,
   "metadata": {},
   "outputs": [],
   "source": [
    "# 2. 사용자 설정통계 페이지 이동"
   ]
  },
  {
   "cell_type": "code",
   "execution_count": 8,
   "metadata": {},
   "outputs": [],
   "source": [
    "driver.get(\"https://www.kaida.co.kr/ko/statistics/custom2.do\")"
   ]
  },
  {
   "cell_type": "code",
   "execution_count": 9,
   "metadata": {},
   "outputs": [],
   "source": [
    "# 3. 브랜드, 지역, 구매유형, 연령 데이터 수집"
   ]
  },
  {
   "cell_type": "code",
   "execution_count": 10,
   "metadata": {},
   "outputs": [
    {
     "name": "stdout",
     "output_type": "stream",
     "text": [
      "23 {'Audi': 'Brand001', 'BMW': 'Brand002', 'Bentley': 'Brand035', 'Cadillac': 'Brand006', 'Chevrolet': 'Brand057', 'Chrysler': 'Brand003', 'Citroen': 'Brand020', 'Ford': 'Brand005', 'Honda': 'Brand007', 'Jaguar': 'Brand008', 'Lamborghini': 'Brand034', 'Land Rover': 'Brand009', 'Lexus': 'Brand015', 'Lincoln': 'Brand058', 'MINI': 'Brand039', 'Maserati': 'Brand010', 'Mercedes-Benz': 'Brand011', 'Peugeot': 'Brand012', 'Porsche': 'Brand013', 'Rolls-Royce': 'Brand032', 'Toyota': 'Brand044', 'Volkswagen': 'Brand016', 'Volvo': 'Brand017'}\n"
     ]
    }
   ],
   "source": [
    "# 브랜드\n",
    "brands = driver.find_elements_by_css_selector(\"#td_Brand > .item_wrap > label\")\n",
    "brands = {brand.text: brand.get_attribute(\"for\") for brand in brands}\n",
    "print(len(brands), brands)"
   ]
  },
  {
   "cell_type": "code",
   "execution_count": 11,
   "metadata": {},
   "outputs": [
    {
     "name": "stdout",
     "output_type": "stream",
     "text": [
      "17 {'서울': 'City11', '부산': 'City26', '대구': 'City27', '인천': 'City28', '광주': 'City29', '대전': 'City30', '울산': 'City31', '세종': 'City36', '경기': 'City41', '강원': 'City42', '충북': 'City43', '충남': 'City44', '전북': 'City45', '전남': 'City46', '경북': 'City47', '경남': 'City48', '제주': 'City49'}\n"
     ]
    }
   ],
   "source": [
    "# 지역\n",
    "areas = driver.find_elements_by_css_selector(\"#td_City > .item_wrap > label\")\n",
    "areas = {area.text: area.get_attribute(\"for\") for area in areas}\n",
    "print(len(areas), areas)"
   ]
  },
  {
   "cell_type": "code",
   "execution_count": 12,
   "metadata": {},
   "outputs": [
    {
     "name": "stdout",
     "output_type": "stream",
     "text": [
      "4 {'개인': 'PurchaseType3', '개인-남자': 'PurchaseType1', '개인-여자': 'PurchaseType2', '법인': 'PurchaseType0'}\n"
     ]
    }
   ],
   "source": [
    "# 구매유형\n",
    "selector = '#pageBody > article.body_wrap > div > div.select_filter > table > tbody > tr > td:nth-child(8) > div > label'\n",
    "sales_types = driver.find_elements_by_css_selector(selector)\n",
    "sales_types = {sales_type.text: sales_type.get_attribute(\"for\") for sales_type in sales_types}\n",
    "print(len(sales_types), sales_types)"
   ]
  },
  {
   "cell_type": "code",
   "execution_count": 13,
   "metadata": {},
   "outputs": [
    {
     "name": "stdout",
     "output_type": "stream",
     "text": [
      "7 {'~19': 'Age1', '20~29': 'Age2', '30~39': 'Age3', '40~49': 'Age4', '50~59': 'Age5', '60~69': 'Age6', '70~': 'Age7'}\n"
     ]
    }
   ],
   "source": [
    "# 연령\n",
    "ages = driver.find_elements_by_css_selector(\".td_Age > .item_wrap > label\")\n",
    "ages = {age.text: age.get_attribute(\"for\") for age in ages}\n",
    "print(len(ages), ages)"
   ]
  },
  {
   "cell_type": "code",
   "execution_count": 14,
   "metadata": {},
   "outputs": [],
   "source": [
    "# 4. 선택"
   ]
  },
  {
   "cell_type": "code",
   "execution_count": 15,
   "metadata": {},
   "outputs": [],
   "source": [
    "def clear_menu(driver):\n",
    "    # 모든 체크 박스 초기화\n",
    "    driver.execute_script(\"$('input[type=checkbox]').prop('checked', false);\"); \n",
    "    # tag 초기화\n",
    "    driver.execute_script(\"$('.sel_item button').click();\");"
   ]
  },
  {
   "cell_type": "code",
   "execution_count": 16,
   "metadata": {},
   "outputs": [],
   "source": [
    "def select_menu(driver, brand_id, area, area_id, sales_type_id, age_id):\n",
    "    \n",
    "    # 메뉴 초기화\n",
    "    clear_menu(driver)\n",
    "    time.sleep(0.5)\n",
    "    \n",
    "    # 브랜드 클릭\n",
    "    driver.find_element_by_css_selector(f'input#{brand_id}').click()\n",
    "    time.sleep(0.5)\n",
    "    \n",
    "    # 지역 클릭\n",
    "    driver.find_element_by_css_selector(f'input#{area_id}').click()\n",
    "    time.sleep(0.5)\n",
    "    \n",
    "    # 상세 지역 클릭 : 전체가 클릭되도록 설정 : 이 메뉴가 안나오는 경우도 있으므로 예외처리\n",
    "    try:\n",
    "        driver.find_element_by_css_selector(f'input#all-{area}').click()\n",
    "        time.sleep(0.5)\n",
    "    except:\n",
    "        pass\n",
    "    \n",
    "    # 구매유형 클릭\n",
    "    driver.find_element_by_css_selector(f'input#{sales_type_id}').click()\n",
    "    time.sleep(0.5)\n",
    "    \n",
    "    # 연령대 클릭\n",
    "    driver.find_element_by_css_selector(f'input#{age_id}').click()\n",
    "    time.sleep(0.5)"
   ]
  },
  {
   "cell_type": "code",
   "execution_count": 17,
   "metadata": {},
   "outputs": [],
   "source": [
    "# 5. 데이터 수집"
   ]
  },
  {
   "cell_type": "code",
   "execution_count": 18,
   "metadata": {},
   "outputs": [],
   "source": [
    "def make_table_df(driver, area, sales_type, age):\n",
    "    \n",
    "    # 컬럼 데이터 수집\n",
    "    columns = driver.find_elements_by_css_selector(\"table.re_table > thead > tr > th\")\n",
    "    columns = [column.text for column in columns] + [\"area\", \"sales_type\", \"age\"]\n",
    "\n",
    "    # 데이터 프레임 만들기\n",
    "    df = pd.DataFrame(columns=columns)\n",
    "\n",
    "    # 데이터 프레임 채우기\n",
    "    rows = driver.find_elements_by_css_selector(\"table.re_table > tbody > tr\")\n",
    "    for row in rows:\n",
    "        cells = row.find_elements_by_css_selector('td,th')\n",
    "        datas = [cell.text for cell in cells] + [area, sales_type, age]     \n",
    "        df.loc[len(df)] = datas\n",
    "    \n",
    "    return df"
   ]
  },
  {
   "cell_type": "code",
   "execution_count": 19,
   "metadata": {},
   "outputs": [
    {
     "name": "stdout",
     "output_type": "stream",
     "text": [
      "['Audi', '서울', '개인', '~19'] ['Audi', '서울', '개인', '20~29'] ['Audi', '서울', '개인-남자', '~19'] ['Audi', '서울', '개인-남자', '20~29'] ['Audi', '부산', '개인', '~19'] ['Audi', '부산', '개인', '20~29'] ['Audi', '부산', '개인-남자', '~19'] ['Audi', '부산', '개인-남자', '20~29'] ['BMW', '서울', '개인', '~19'] ['BMW', '서울', '개인', '20~29'] ['BMW', '서울', '개인-남자', '~19'] ['BMW', '서울', '개인-남자', '20~29'] ['BMW', '부산', '개인', '~19'] ['BMW', '부산', '개인', '20~29'] ['BMW', '부산', '개인-남자', '~19'] ['BMW', '부산', '개인-남자', '20~29'] "
     ]
    },
    {
     "data": {
      "text/html": [
       "<div>\n",
       "<style scoped>\n",
       "    .dataframe tbody tr th:only-of-type {\n",
       "        vertical-align: middle;\n",
       "    }\n",
       "\n",
       "    .dataframe tbody tr th {\n",
       "        vertical-align: top;\n",
       "    }\n",
       "\n",
       "    .dataframe thead th {\n",
       "        text-align: right;\n",
       "    }\n",
       "</style>\n",
       "<table border=\"1\" class=\"dataframe\">\n",
       "  <thead>\n",
       "    <tr style=\"text-align: right;\">\n",
       "      <th></th>\n",
       "      <th>구분</th>\n",
       "      <th>Jan.</th>\n",
       "      <th>Feb.</th>\n",
       "      <th>Mar.</th>\n",
       "      <th>Apr.</th>\n",
       "      <th>May</th>\n",
       "      <th>Jun.</th>\n",
       "      <th>Jul.</th>\n",
       "      <th>Aug.</th>\n",
       "      <th>Sep.</th>\n",
       "      <th>Oct.</th>\n",
       "      <th>Nov.</th>\n",
       "      <th>Dec.</th>\n",
       "      <th>Total</th>\n",
       "      <th>area</th>\n",
       "      <th>sales_type</th>\n",
       "      <th>age</th>\n",
       "    </tr>\n",
       "  </thead>\n",
       "  <tbody>\n",
       "    <tr>\n",
       "      <th>5</th>\n",
       "      <td>BMW</td>\n",
       "      <td>37</td>\n",
       "      <td>61</td>\n",
       "      <td>49</td>\n",
       "      <td>56</td>\n",
       "      <td>0</td>\n",
       "      <td>0</td>\n",
       "      <td>0</td>\n",
       "      <td>0</td>\n",
       "      <td>0</td>\n",
       "      <td>0</td>\n",
       "      <td>0</td>\n",
       "      <td>0</td>\n",
       "      <td>203</td>\n",
       "      <td>서울</td>\n",
       "      <td>개인</td>\n",
       "      <td>20~29</td>\n",
       "    </tr>\n",
       "    <tr>\n",
       "      <th>6</th>\n",
       "      <td>BMW</td>\n",
       "      <td>1</td>\n",
       "      <td>1</td>\n",
       "      <td>0</td>\n",
       "      <td>0</td>\n",
       "      <td>0</td>\n",
       "      <td>0</td>\n",
       "      <td>0</td>\n",
       "      <td>0</td>\n",
       "      <td>0</td>\n",
       "      <td>0</td>\n",
       "      <td>0</td>\n",
       "      <td>0</td>\n",
       "      <td>2</td>\n",
       "      <td>서울</td>\n",
       "      <td>개인-남자</td>\n",
       "      <td>~19</td>\n",
       "    </tr>\n",
       "    <tr>\n",
       "      <th>7</th>\n",
       "      <td>BMW</td>\n",
       "      <td>22</td>\n",
       "      <td>39</td>\n",
       "      <td>30</td>\n",
       "      <td>41</td>\n",
       "      <td>0</td>\n",
       "      <td>0</td>\n",
       "      <td>0</td>\n",
       "      <td>0</td>\n",
       "      <td>0</td>\n",
       "      <td>0</td>\n",
       "      <td>0</td>\n",
       "      <td>0</td>\n",
       "      <td>132</td>\n",
       "      <td>서울</td>\n",
       "      <td>개인-남자</td>\n",
       "      <td>20~29</td>\n",
       "    </tr>\n",
       "    <tr>\n",
       "      <th>8</th>\n",
       "      <td>BMW</td>\n",
       "      <td>18</td>\n",
       "      <td>14</td>\n",
       "      <td>21</td>\n",
       "      <td>10</td>\n",
       "      <td>0</td>\n",
       "      <td>0</td>\n",
       "      <td>0</td>\n",
       "      <td>0</td>\n",
       "      <td>0</td>\n",
       "      <td>0</td>\n",
       "      <td>0</td>\n",
       "      <td>0</td>\n",
       "      <td>63</td>\n",
       "      <td>부산</td>\n",
       "      <td>개인</td>\n",
       "      <td>20~29</td>\n",
       "    </tr>\n",
       "    <tr>\n",
       "      <th>9</th>\n",
       "      <td>BMW</td>\n",
       "      <td>13</td>\n",
       "      <td>10</td>\n",
       "      <td>18</td>\n",
       "      <td>8</td>\n",
       "      <td>0</td>\n",
       "      <td>0</td>\n",
       "      <td>0</td>\n",
       "      <td>0</td>\n",
       "      <td>0</td>\n",
       "      <td>0</td>\n",
       "      <td>0</td>\n",
       "      <td>0</td>\n",
       "      <td>49</td>\n",
       "      <td>부산</td>\n",
       "      <td>개인-남자</td>\n",
       "      <td>20~29</td>\n",
       "    </tr>\n",
       "  </tbody>\n",
       "</table>\n",
       "</div>"
      ],
      "text/plain": [
       "    구분 Jan. Feb. Mar. Apr. May Jun. Jul. Aug. Sep. Oct. Nov. Dec. Total area  \\\n",
       "5  BMW   37   61   49   56   0    0    0    0    0    0    0    0   203   서울   \n",
       "6  BMW    1    1    0    0   0    0    0    0    0    0    0    0     2   서울   \n",
       "7  BMW   22   39   30   41   0    0    0    0    0    0    0    0   132   서울   \n",
       "8  BMW   18   14   21   10   0    0    0    0    0    0    0    0    63   부산   \n",
       "9  BMW   13   10   18    8   0    0    0    0    0    0    0    0    49   부산   \n",
       "\n",
       "  sales_type    age  \n",
       "5         개인  20~29  \n",
       "6      개인-남자    ~19  \n",
       "7      개인-남자  20~29  \n",
       "8         개인  20~29  \n",
       "9      개인-남자  20~29  "
      ]
     },
     "execution_count": 19,
     "metadata": {},
     "output_type": "execute_result"
    }
   ],
   "source": [
    "# 6. 함수 실행\n",
    "dfs = []\n",
    "\n",
    "for brand, brand_id in list(brands.items())[:2]:\n",
    "    for area, area_id in list(areas.items())[:2]:\n",
    "        for sales_type, sales_type_id in list(sales_types.items())[:2]:\n",
    "            for age, age_id in list(ages.items())[:2]:\n",
    "                print([brand, area, sales_type, age], end=\" \")\n",
    "                \n",
    "                # 메뉴 선택\n",
    "                select_menu(driver, brand_id, area, area_id, sales_type_id, age_id)\n",
    "                \n",
    "                # 검색버튼 클릭\n",
    "                driver.find_element_by_css_selector('.searchBtn').click()\n",
    "                time.sleep(1)\n",
    "                \n",
    "                # 데이터 수집해서 데이터 프레임으로 만들기\n",
    "                df = make_table_df(driver, area, sales_type, age)\n",
    "                dfs.append(df)\n",
    "\n",
    "# 수집된 데이터 프레임 병합\n",
    "result_df = pd.concat(dfs)\n",
    "\n",
    "# index 초기화\n",
    "result_df.reset_index(drop=True, inplace=True)\n",
    "\n",
    "# csv 파일로 저장\n",
    "result_df.to_csv(\"result.csv\", index=False)\n",
    "\n",
    "# 출력\n",
    "result_df.tail()"
   ]
  },
  {
   "cell_type": "code",
   "execution_count": null,
   "metadata": {},
   "outputs": [],
   "source": [
    "# selenium으로 로그인후 쿠키 데이터로 requests 하기"
   ]
  },
  {
   "cell_type": "code",
   "execution_count": 20,
   "metadata": {},
   "outputs": [],
   "source": [
    "import json"
   ]
  },
  {
   "cell_type": "code",
   "execution_count": 23,
   "metadata": {},
   "outputs": [
    {
     "data": {
      "text/plain": [
       "'_gid=GA1.3.715465655.1620792833; _ga=GA1.3.880853285.1620792833; JSESSIONID=B08F3B34C4BF4DCE8F07B5FC3AC1275D'"
      ]
     },
     "execution_count": 23,
     "metadata": {},
     "output_type": "execute_result"
    }
   ],
   "source": [
    "cookies = driver.get_cookies()\n",
    "cookie_str = \"\"\n",
    "for cookie in cookies:\n",
    "    cookie_str += cookie[\"name\"] + \"=\" + cookie['value'] + \"; \"\n",
    "cookie_str = cookie_str[:-2]\n",
    "cookie_str"
   ]
  },
  {
   "cell_type": "code",
   "execution_count": 24,
   "metadata": {},
   "outputs": [
    {
     "data": {
      "text/plain": [
       "<Response [200]>"
      ]
     },
     "execution_count": 24,
     "metadata": {},
     "output_type": "execute_result"
    }
   ],
   "source": [
    "url = \"https://www.kaida.co.kr/ko/statistics/customAjax.do\"\n",
    "params = {\n",
    "    \"searchCity\": \"11\",\n",
    "    \"searchPurchaseType\": \"3\",\n",
    "    \"searchAge\": \"2\",\n",
    "    \"searchBrand\": \"001\",\n",
    "    \"searchFilterText\": \"서울 / 개인 / 20~29 / Audi\",\n",
    "    \"searchDivision\": \"Brand\",\n",
    "    \"searchDivisionName\": \"브랜드\",\n",
    "    \"searchYear\": \"2021\",\n",
    "}\n",
    "headers = { 'Cookie': cookie_str }\n",
    "response = requests.post(url, json.dumps(params), headers=headers)\n",
    "response"
   ]
  },
  {
   "cell_type": "code",
   "execution_count": 26,
   "metadata": {},
   "outputs": [
    {
     "data": {
      "text/html": [
       "<div>\n",
       "<style scoped>\n",
       "    .dataframe tbody tr th:only-of-type {\n",
       "        vertical-align: middle;\n",
       "    }\n",
       "\n",
       "    .dataframe tbody tr th {\n",
       "        vertical-align: top;\n",
       "    }\n",
       "\n",
       "    .dataframe thead th {\n",
       "        text-align: right;\n",
       "    }\n",
       "</style>\n",
       "<table border=\"1\" class=\"dataframe\">\n",
       "  <thead>\n",
       "    <tr style=\"text-align: right;\">\n",
       "      <th></th>\n",
       "      <th>division</th>\n",
       "      <th>divisionName</th>\n",
       "      <th>yyyy</th>\n",
       "      <th>mon01</th>\n",
       "      <th>mon02</th>\n",
       "      <th>mon03</th>\n",
       "      <th>mon04</th>\n",
       "      <th>mon05</th>\n",
       "      <th>mon06</th>\n",
       "      <th>mon07</th>\n",
       "      <th>mon08</th>\n",
       "      <th>mon09</th>\n",
       "      <th>mon10</th>\n",
       "      <th>mon11</th>\n",
       "      <th>mon12</th>\n",
       "      <th>total</th>\n",
       "      <th>summary_type</th>\n",
       "    </tr>\n",
       "  </thead>\n",
       "  <tbody>\n",
       "    <tr>\n",
       "      <th>21</th>\n",
       "      <td>016</td>\n",
       "      <td>Volkswagen</td>\n",
       "      <td>2021</td>\n",
       "      <td>1236</td>\n",
       "      <td>1783</td>\n",
       "      <td>1628</td>\n",
       "      <td>1080</td>\n",
       "      <td>0</td>\n",
       "      <td>0</td>\n",
       "      <td>0</td>\n",
       "      <td>0</td>\n",
       "      <td>0</td>\n",
       "      <td>0</td>\n",
       "      <td>0</td>\n",
       "      <td>0</td>\n",
       "      <td>5727</td>\n",
       "      <td>11</td>\n",
       "    </tr>\n",
       "    <tr>\n",
       "      <th>22</th>\n",
       "      <td>017</td>\n",
       "      <td>Volvo</td>\n",
       "      <td>2021</td>\n",
       "      <td>1198</td>\n",
       "      <td>1202</td>\n",
       "      <td>1251</td>\n",
       "      <td>1263</td>\n",
       "      <td>0</td>\n",
       "      <td>0</td>\n",
       "      <td>0</td>\n",
       "      <td>0</td>\n",
       "      <td>0</td>\n",
       "      <td>0</td>\n",
       "      <td>0</td>\n",
       "      <td>0</td>\n",
       "      <td>4914</td>\n",
       "      <td>11</td>\n",
       "    </tr>\n",
       "  </tbody>\n",
       "</table>\n",
       "</div>"
      ],
      "text/plain": [
       "   division divisionName  yyyy mon01 mon02 mon03 mon04 mon05 mon06 mon07  \\\n",
       "21      016   Volkswagen  2021  1236  1783  1628  1080     0     0     0   \n",
       "22      017        Volvo  2021  1198  1202  1251  1263     0     0     0   \n",
       "\n",
       "   mon08 mon09 mon10 mon11 mon12 total summary_type  \n",
       "21     0     0     0     0     0  5727           11  \n",
       "22     0     0     0     0     0  4914           11  "
      ]
     },
     "execution_count": 26,
     "metadata": {},
     "output_type": "execute_result"
    }
   ],
   "source": [
    "df = pd.DataFrame(response.json()[\"listDynamic\"])\n",
    "df.tail(2)"
   ]
  },
  {
   "cell_type": "code",
   "execution_count": 27,
   "metadata": {},
   "outputs": [],
   "source": [
    "driver.quit()"
   ]
  }
 ],
 "metadata": {
  "kernelspec": {
   "display_name": "Python 3",
   "language": "python",
   "name": "python3"
  },
  "language_info": {
   "codemirror_mode": {
    "name": "ipython",
    "version": 3
   },
   "file_extension": ".py",
   "mimetype": "text/x-python",
   "name": "python",
   "nbconvert_exporter": "python",
   "pygments_lexer": "ipython3",
   "version": "3.8.5"
  }
 },
 "nbformat": 4,
 "nbformat_minor": 4
}
