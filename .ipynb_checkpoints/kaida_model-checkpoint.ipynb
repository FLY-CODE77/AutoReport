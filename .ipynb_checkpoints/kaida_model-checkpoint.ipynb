{
 "cells": [
  {
   "cell_type": "code",
   "execution_count": 1,
   "metadata": {},
   "outputs": [],
   "source": [
    "from selenium import webdriver\n",
    "from selenium.webdriver.support.select import Select\n",
    "import time \n",
    "import pandas as pd\n",
    "from bs4 import BeautifulSoup"
   ]
  },
  {
   "cell_type": "code",
   "execution_count": 2,
   "metadata": {},
   "outputs": [],
   "source": [
    "import configparser"
   ]
  },
  {
   "cell_type": "code",
   "execution_count": 3,
   "metadata": {},
   "outputs": [],
   "source": [
    "import time"
   ]
  },
  {
   "cell_type": "code",
   "execution_count": 4,
   "metadata": {},
   "outputs": [],
   "source": [
    "user_id = \"hctmkr\" \n",
    "user_pass = \"hcinc3600\""
   ]
  },
  {
   "cell_type": "code",
   "execution_count": 5,
   "metadata": {},
   "outputs": [
    {
     "name": "stdout",
     "output_type": "stream",
     "text": [
      "/Users/jayz/Autoreport\r\n"
     ]
    }
   ],
   "source": [
    "!pwd"
   ]
  },
  {
   "cell_type": "code",
   "execution_count": 6,
   "metadata": {},
   "outputs": [],
   "source": [
    "# options = webdriver.ChromeOptions()\n",
    "# driver = webdriver.Chrome('./chromedriver')\n",
    "# driver = webdriver.Chrome('./User/desktop/documents/notebook/DSS_17/chrome/chromedriver')\n",
    "# driver = webdriver.Chrome()\n",
    "driver = webdriver.Chrome('/Users/jayz/dayz/chrome/chromedriver')"
   ]
  },
  {
   "cell_type": "code",
   "execution_count": 7,
   "metadata": {},
   "outputs": [],
   "source": [
    "#driver.set_window_size(1400, 1200)\n",
    "driver.get(\"https://www.kaida.co.kr/uat/uia/egovLoginUsr.do\")"
   ]
  },
  {
   "cell_type": "code",
   "execution_count": 8,
   "metadata": {},
   "outputs": [],
   "source": [
    "driver.find_element_by_css_selector('#userId').send_keys(user_id)\n",
    "driver.find_element_by_css_selector('#userPass').send_keys(user_pass)\n",
    "driver.execute_script('actionLogin()')"
   ]
  },
  {
   "cell_type": "code",
   "execution_count": 9,
   "metadata": {},
   "outputs": [],
   "source": [
    "# 2. 사용자 설정통계 페이지 이동"
   ]
  },
  {
   "cell_type": "code",
   "execution_count": 10,
   "metadata": {},
   "outputs": [],
   "source": [
    "driver.get(\"https://www.kaida.co.kr/ko/statistics/custom2.do\")"
   ]
  },
  {
   "cell_type": "code",
   "execution_count": 11,
   "metadata": {},
   "outputs": [],
   "source": [
    "# 3. 브랜드, 지역, 구매유형, 연령 데이터 수집"
   ]
  },
  {
   "cell_type": "code",
   "execution_count": 12,
   "metadata": {},
   "outputs": [
    {
     "name": "stdout",
     "output_type": "stream",
     "text": [
      "4 {'개인': 'PurchaseType3', '개인-남자': 'PurchaseType1', '개인-여자': 'PurchaseType2', '법인': 'PurchaseType0'}\n"
     ]
    }
   ],
   "source": [
    "# 구매유형\n",
    "selector = '#pageBody > article.body_wrap > div > div.select_filter > table > tbody > tr > td:nth-child(8) > div > label'\n",
    "sales_types = driver.find_elements_by_css_selector(selector)\n",
    "sales_types = {sales_type.text: sales_type.get_attribute(\"for\") for sales_type in sales_types}\n",
    "print(len(sales_types), sales_types)"
   ]
  },
  {
   "cell_type": "code",
   "execution_count": 13,
   "metadata": {},
   "outputs": [
    {
     "name": "stdout",
     "output_type": "stream",
     "text": [
      "7 {'~19': 'Age1', '20~29': 'Age2', '30~39': 'Age3', '40~49': 'Age4', '50~59': 'Age5', '60~69': 'Age6', '70~': 'Age7'}\n"
     ]
    }
   ],
   "source": [
    "# 연령\n",
    "ages = driver.find_elements_by_css_selector(\".td_Age > .item_wrap > label\")\n",
    "ages = {age.text: age.get_attribute(\"for\") for age in ages}\n",
    "print(len(ages), ages)"
   ]
  },
  {
   "cell_type": "code",
   "execution_count": 14,
   "metadata": {},
   "outputs": [],
   "source": [
    "def clear_menu(driver):\n",
    "    # 나이 체크박스 초기화\n",
    "    driver.execute_script(\"$('#td_Age > .item_wrap > label > input').prop('checked', false);\")\n",
    "    # tag 초기화\n",
    "    driver.execute_script(\"$('.sel_item button').click();\");"
   ]
  },
  {
   "cell_type": "code",
   "execution_count": 15,
   "metadata": {},
   "outputs": [],
   "source": [
    "def select_menu(driver, sales_type_id, age_id):\n",
    "    \n",
    "    # 메뉴 초기화\n",
    "    clear_menu(driver)\n",
    "    time.sleep(0.5)\n",
    "    \n",
    "    # 구매유형 클릭\n",
    "    driver.find_element_by_css_selector(f'input#{sales_type_id}').click()\n",
    "    time.sleep(0.5)\n",
    "    \n",
    "    # 연령대 클릭\n",
    "    try: \n",
    "        driver.find_element_by_css_selector(f'input#{age_id}').click()\n",
    "        time.sleep(0.5)\n",
    "    except:\n",
    "        pass"
   ]
  },
  {
   "cell_type": "code",
   "execution_count": 16,
   "metadata": {},
   "outputs": [],
   "source": [
    "def make_table_df(driver, sales_type, age, year):\n",
    "    \n",
    "    # 컬럼 데이터 수집\n",
    "    columns = driver.find_elements_by_css_selector(\"table.re_table > thead > tr > th\")\n",
    "    columns = [column.text for column in columns] + [ \"sales_type\", \"age\", \"year\"] \n",
    "\n",
    "    # 데이터 프레임 만들기\n",
    "    df = pd.DataFrame(columns=columns)\n",
    "\n",
    "    # 데이터 프레임 채우기\n",
    "    rows = driver.find_elements_by_css_selector(\"table.re_table > tbody > tr\")\n",
    "    for row in rows:\n",
    "        cells = row.find_elements_by_css_selector('td,th')\n",
    "        datas = [cell.text for cell in cells] + [sales_type, age, year]     \n",
    "        df.loc[len(df)] = datas\n",
    "    \n",
    "    return df"
   ]
  },
  {
   "cell_type": "code",
   "execution_count": null,
   "metadata": {
    "scrolled": false
   },
   "outputs": [
    {
     "name": "stdout",
     "output_type": "stream",
     "text": [
      "['개인', '~19', 2018] ['개인', '20~29', 2018] ['개인', '30~39', 2018] ['개인', '40~49', 2018] ['개인', '50~59', 2018] ['개인', '60~69', 2018] ['개인', '70~', 2018] ['개인-남자', '~19', 2018] ['개인-남자', '20~29', 2018] ['개인-남자', '30~39', 2018] ['개인-남자', '40~49', 2018] ['개인-남자', '50~59', 2018] ['개인-남자', '60~69', 2018] ['개인-남자', '70~', 2018] ['개인-여자', '~19', 2018] ['개인-여자', '20~29', 2018] ['개인-여자', '30~39', 2018] ['개인-여자', '40~49', 2018] ['개인-여자', '50~59', 2018] ['개인-여자', '60~69', 2018] ['개인-여자', '70~', 2018] ['법인', '~19', 2018] ['법인', '20~29', 2018] ['법인', '30~39', 2018] ['법인', '40~49', 2018] "
     ]
    }
   ],
   "source": [
    "dfs = []\n",
    "for year in range(2018, 2021): #2016, 2022        \n",
    "    years = Select(driver.find_element_by_xpath(\"\"\"//*[@id=\"searchYear\"]\"\"\"))\n",
    "    driver.find_element_by_css_selector('#searchDivision > option:nth-child(2)').click()\n",
    "\n",
    "    for sales_type, sales_type_id in list(sales_types.items()):\n",
    "        for age, age_id in list(ages.items()):\n",
    "            print([sales_type, age, year], end=\" \")\n",
    "\n",
    "                    # 메뉴 선택\n",
    "            select_menu(driver, sales_type_id, age_id)\n",
    "\n",
    "                    # 검색버튼 클릭\n",
    "            driver.find_element_by_css_selector('.searchBtn').click()\n",
    "            time.sleep(0.5)\n",
    "\n",
    "                    # 데이터 수집해서 데이터 프레임으로 만들기\n",
    "            try:\n",
    "                df = make_table_df(driver, sales_type, age, year)\n",
    "                dfs.append(df)\n",
    "            except:\n",
    "                pass\n",
    "\n",
    "                \n",
    "# 수집된 데이터 프레임 병합\n",
    "result_df = pd.concat(dfs)\n",
    "\n",
    "# index 초기화\n",
    "result_df.reset_index(drop=True, inplace=True)\n",
    "\n",
    "# csv 파일로 저장\n",
    "result_df.to_csv(\"result1.csv\", index=False)\n",
    "result_df.to_excel('result1.xlsx', index=False)\n",
    "\n",
    "# 출력\n",
    "result_df.tail()"
   ]
  },
  {
   "cell_type": "code",
   "execution_count": null,
   "metadata": {},
   "outputs": [],
   "source": [
    "import re"
   ]
  },
  {
   "cell_type": "code",
   "execution_count": null,
   "metadata": {},
   "outputs": [],
   "source": [
    " d = [column for column in result_df[\"구분\"]]"
   ]
  },
  {
   "cell_type": "code",
   "execution_count": null,
   "metadata": {},
   "outputs": [],
   "source": [
    "re.findall('(\\w+)\\s-', str(d))"
   ]
  },
  {
   "cell_type": "code",
   "execution_count": null,
   "metadata": {},
   "outputs": [],
   "source": [
    "re.findall('-\\s(\\w+\\s?\\w+\\s?\\w+\\s+\\w+)', str(d))"
   ]
  },
  {
   "cell_type": "code",
   "execution_count": null,
   "metadata": {},
   "outputs": [],
   "source": []
  },
  {
   "cell_type": "code",
   "execution_count": null,
   "metadata": {},
   "outputs": [],
   "source": [
    "driver.quit()"
   ]
  },
  {
   "cell_type": "code",
   "execution_count": null,
   "metadata": {},
   "outputs": [],
   "source": [
    "result_df"
   ]
  },
  {
   "cell_type": "code",
   "execution_count": null,
   "metadata": {},
   "outputs": [],
   "source": []
  }
 ],
 "metadata": {
  "kernelspec": {
   "display_name": "Python 3",
   "language": "python",
   "name": "python3"
  },
  "language_info": {
   "codemirror_mode": {
    "name": "ipython",
    "version": 3
   },
   "file_extension": ".py",
   "mimetype": "text/x-python",
   "name": "python",
   "nbconvert_exporter": "python",
   "pygments_lexer": "ipython3",
   "version": "3.7.10"
  }
 },
 "nbformat": 4,
 "nbformat_minor": 4
}
